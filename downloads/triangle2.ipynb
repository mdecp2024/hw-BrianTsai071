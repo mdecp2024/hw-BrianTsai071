{
 "cells": [
  {
   "cell_type": "code",
   "execution_count": 1,
   "id": "c77513d5-9fb3-4f48-98fa-bf9e3652be0a",
   "metadata": {},
   "outputs": [
    {
     "name": "stdout",
     "output_type": "stream",
     "text": [
      "____*\n",
      "___**\n",
      "__***\n",
      "_****\n",
      "*****\n",
      "_****\n",
      "__***\n",
      "___**\n",
      "____*\n"
     ]
    }
   ],
   "source": [
    "n = 5  # 定義金字塔的總行數，這裡我們用 n=5，表示金字塔共有 5 行\n",
    "space = '_'\n",
    "# 第一部分：打印上半部 (包括中間行)\n",
    "for i in range(1, n + 1):  # 從第1行到第n行，i代表行數\n",
    "    # 這裡我們打印空格，讓星號可以靠右對齊\n",
    "    # 空格數量是 (n - i)，因為第一行需要 4 個空格，第二行需要 3 個空格，以此類推\n",
    "    print(space * (n - i), end='')  # end='' 防止換行，讓星號和空格在同一行輸出\n",
    "\n",
    "    # 打印星號。每一行的星號數量是 i，從 1 開始逐行增加\n",
    "    # 第一行 1 顆星，第二行 2 顆星，第三行 3 顆星...這樣增加\n",
    "    print('*' * i)  # 每行輸出 i 個星號\n",
    "\n",
    "# 第二部分：打印下半部（去除中間行）\n",
    "for i in range(n - 1, 0, -1):  # 這裡我們從 n-1 行開始，逐行減少星號數量\n",
    "    # 空格的數量依然是 (n - i)，這是因為下半部的對稱性\n",
    "    # 比如當 i=n-1 時，空格數量是 1，當 i=n-2 時，空格數量是 2\n",
    "    print(space * (n - i), end='')  # 同樣使用 end='' 來避免換行\n",
    "\n",
    "    # 打印星號數量為 i，從 n-1 開始逐行減少\n",
    "    # 所以當 i = n-1 時，打印 n-1 顆星，當 i = n-2 時，打印 n-2 顆星，依此類推\n",
    "    print('*' * i)  # 每行輸出 i 顆星號"
   ]
  },
  {
   "cell_type": "code",
   "execution_count": null,
   "id": "567bd76a-ac11-4407-be05-1bcf176cce27",
   "metadata": {},
   "outputs": [],
   "source": []
  }
 ],
 "metadata": {
  "kernelspec": {
   "display_name": "Python 3 (ipykernel)",
   "language": "python",
   "name": "python3"
  },
  "language_info": {
   "codemirror_mode": {
    "name": "ipython",
    "version": 3
   },
   "file_extension": ".py",
   "mimetype": "text/x-python",
   "name": "python",
   "nbconvert_exporter": "python",
   "pygments_lexer": "ipython3",
   "version": "3.10.11"
  }
 },
 "nbformat": 4,
 "nbformat_minor": 5
}
