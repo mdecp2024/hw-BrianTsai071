{
 "cells": [
  {
   "cell_type": "code",
   "execution_count": 3,
   "id": "50697b2b-63e4-4fbb-bed1-9d882c21d53d",
   "metadata": {},
   "outputs": [
    {
     "name": "stdout",
     "output_type": "stream",
     "text": [
      "____*\n",
      "___***\n",
      "__*****\n",
      "_*******\n",
      "*********\n"
     ]
    }
   ],
   "source": [
    "n = 5  # 總共的行數\n",
    "space = '_'\n",
    "for i in range(n):  # 對於每一行\n",
    "    # 印出空格\n",
    "    print(space * (n - i - 1), end='')  # 在每行前面印出空格\n",
    "    # 印出星號\n",
    "    print('*' * (2 * i + 1))  # 每行印出 2*i +\n"
   ]
  },
  {
   "cell_type": "code",
   "execution_count": null,
   "id": "b06d84a2-b4db-4e20-8daf-c174ba116dd3",
   "metadata": {},
   "outputs": [],
   "source": []
  }
 ],
 "metadata": {
  "kernelspec": {
   "display_name": "Python 3 (ipykernel)",
   "language": "python",
   "name": "python3"
  },
  "language_info": {
   "codemirror_mode": {
    "name": "ipython",
    "version": 3
   },
   "file_extension": ".py",
   "mimetype": "text/x-python",
   "name": "python",
   "nbconvert_exporter": "python",
   "pygments_lexer": "ipython3",
   "version": "3.10.11"
  }
 },
 "nbformat": 4,
 "nbformat_minor": 5
}
